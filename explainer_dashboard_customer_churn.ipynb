{
 "cells": [
  {
   "cell_type": "code",
   "execution_count": null,
   "metadata": {},
   "outputs": [],
   "source": [
    "!pip install explainerdashboard\n",
    "!pip install IProgress\n",
    "!pip install randomForestExplainer"
   ]
  },
  {
   "cell_type": "code",
   "execution_count": 8,
   "metadata": {},
   "outputs": [],
   "source": [
    "from IPython.core.interactiveshell import InteractiveShell\n",
    "InteractiveShell.ast_node_interactivity = \"all\"\n"
   ]
  },
  {
   "cell_type": "markdown",
   "metadata": {},
   "source": [
    "# Predicting the most important feature for \"Exited\" using SHAP values<br>\n",
    "<h3> Transformed data in excel before calling into the model</h3>"
   ]
  },
  {
   "cell_type": "code",
   "execution_count": 4,
   "metadata": {},
   "outputs": [],
   "source": [
    "import pandas as pd\n",
    "datafile = pd.read_csv(\"ForRF_Customer_Churn_Records.csv\")\n",
    "df = pd.DataFrame(datafile)\n",
    "\n",
    "X = df[['RowNumber', 'CreditScore', '1Ger2Fr3Sp', 'Male1_Female0', 'Age',\n",
    "       'Tenure', 'Balance', 'NumOfProducts', 'HasCrCard', 'IsActiveMember',\n",
    "       'EstimatedSalary', 'Complain', 'Satisfaction Score',\n",
    "       '1Dia2Gold3Silver', 'Points Earned']]\n",
    "y = df[['Exited']].values.ravel()\n"
   ]
  },
  {
   "cell_type": "markdown",
   "metadata": {},
   "source": [
    "# Similar to correlation heatmap results, SHAP values also show that the number one contributor to customer exit is complaint. "
   ]
  },
  {
   "cell_type": "code",
   "execution_count": null,
   "metadata": {},
   "outputs": [],
   "source": [
    "from sklearn.ensemble import RandomForestClassifier\n",
    "from explainerdashboard import ClassifierExplainer, ExplainerDashboard\n",
    "\n",
    "\n",
    "model = RandomForestClassifier(n_estimators=50, max_depth=10).fit(X, y)\n",
    "\n",
    "explainer = ClassifierExplainer(model, X, y)\n",
    "\n",
    "ExplainerDashboard(explainer).run()\n"
   ]
  },
  {
   "cell_type": "markdown",
   "metadata": {},
   "source": [
    "# Appendix <br>\n",
    "<h3> Confirming df contents after cleaning in excel</h3>"
   ]
  },
  {
   "cell_type": "code",
   "execution_count": null,
   "metadata": {},
   "outputs": [],
   "source": [
    "df.columns"
   ]
  },
  {
   "cell_type": "code",
   "execution_count": 7,
   "metadata": {},
   "outputs": [
    {
     "name": "stdout",
     "output_type": "stream",
     "text": [
      "<class 'pandas.core.frame.DataFrame'>\n",
      "RangeIndex: 10000 entries, 0 to 9999\n",
      "Data columns (total 16 columns):\n",
      " #   Column              Non-Null Count  Dtype  \n",
      "---  ------              --------------  -----  \n",
      " 0   RowNumber           10000 non-null  int64  \n",
      " 1   CreditScore         10000 non-null  int64  \n",
      " 2   1Ger2Fr3Sp          10000 non-null  int64  \n",
      " 3   Male1_Female0       10000 non-null  int64  \n",
      " 4   Age                 10000 non-null  int64  \n",
      " 5   Tenure              10000 non-null  int64  \n",
      " 6   Balance             10000 non-null  float64\n",
      " 7   NumOfProducts       10000 non-null  int64  \n",
      " 8   HasCrCard           10000 non-null  int64  \n",
      " 9   IsActiveMember      10000 non-null  int64  \n",
      " 10  EstimatedSalary     10000 non-null  float64\n",
      " 11  Exited              10000 non-null  int64  \n",
      " 12  Complain            10000 non-null  int64  \n",
      " 13  Satisfaction Score  10000 non-null  int64  \n",
      " 14  1Dia2Gold3Silver    10000 non-null  int64  \n",
      " 15  Points Earned       10000 non-null  int64  \n",
      "dtypes: float64(2), int64(14)\n",
      "memory usage: 1.2 MB\n"
     ]
    }
   ],
   "source": [
    "df.info()"
   ]
  }
 ],
 "metadata": {
  "kernelspec": {
   "display_name": "Python 3",
   "language": "python",
   "name": "python3"
  },
  "language_info": {
   "codemirror_mode": {
    "name": "ipython",
    "version": 3
   },
   "file_extension": ".py",
   "mimetype": "text/x-python",
   "name": "python",
   "nbconvert_exporter": "python",
   "pygments_lexer": "ipython3",
   "version": "3.8.0"
  },
  "orig_nbformat": 4
 },
 "nbformat": 4,
 "nbformat_minor": 2
}
